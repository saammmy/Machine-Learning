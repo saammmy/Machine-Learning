{
 "cells": [
  {
   "cell_type": "code",
   "execution_count": 1,
   "metadata": {},
   "outputs": [
    {
     "name": "stdout",
     "output_type": "stream",
     "text": [
      "Training Loss = [[4963.96201995]]\n"
     ]
    }
   ],
   "source": [
    "import math\n",
    "import numpy as np\n",
    "from linear_regression import *\n",
    "from sklearn.datasets import make_regression\n",
    "# Note: please don't add any new package, you should solve this problem using only the packages above.\n",
    "#-------------------------------------------------------------------------\n",
    "'''\n",
    "    Problem 2: Apply your Linear Regression\n",
    "    In this problem, use your linear regression method implemented in problem 1 to do the prediction.\n",
    "    Play with parameters alpha and number of epoch to make sure your test loss is smaller than 1e-2.\n",
    "    Report your parameter, your train_loss and test_loss \n",
    "    Note: please don't use any existing package for linear regression problem, use your own version.\n",
    "'''\n",
    "\n",
    "#--------------------------\n",
    "\n",
    "n_samples = 200\n",
    "X,y = make_regression(n_samples= n_samples, n_features=4, random_state=1)\n",
    "y = np.asmatrix(y).T\n",
    "X = np.asmatrix(X)\n",
    "Xtrain, Ytrain, Xtest, Ytest = X[::2], y[::2], X[1::2], y[1::2]\n",
    "\n",
    "#########################################\n",
    "## INSERT YOUR CODE HERE\n",
    "\n",
    "w=train(Xtrain, Ytrain, alpha=0.001, n_epoch=100)\n",
    "yhat_train=compute_yhat(Xtrain,w)\n",
    "L_train=compute_L(yhat_train,Ytrain)\n",
    "print(\"Training Loss = \"+str(L_train))\n",
    "\n",
    "\n"
   ]
  },
  {
   "cell_type": "code",
   "execution_count": null,
   "metadata": {},
   "outputs": [],
   "source": []
  }
 ],
 "metadata": {
  "kernelspec": {
   "display_name": "Python 3",
   "language": "python",
   "name": "python3"
  },
  "language_info": {
   "codemirror_mode": {
    "name": "ipython",
    "version": 3
   },
   "file_extension": ".py",
   "mimetype": "text/x-python",
   "name": "python",
   "nbconvert_exporter": "python",
   "pygments_lexer": "ipython3",
   "version": "3.8.5"
  }
 },
 "nbformat": 4,
 "nbformat_minor": 4
}
